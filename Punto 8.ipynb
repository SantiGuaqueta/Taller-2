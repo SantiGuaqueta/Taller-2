{
 "cells": [
  {
   "cell_type": "code",
   "execution_count": null,
   "metadata": {},
   "outputs": [],
   "source": [
    "# Desarrollar un programa que dadas dos listas determine que elementos tiene la primer lista que no tenga la segunda lista\n",
    "\n",
    "list1 = [] #creamos una lista 1 vacía\n",
    "n = (input(\"ingrese un elemento para la lista 1 : \"))  #preguntamos al usuario que elemento desea añadir\n",
    "while (n != 'stop'): #ejecutamos siempre que los elementos ingresados sean distintos a la palabra 'stop'\n",
    "    list1.append(n)  #añadimos el elemento a la lista 1\n",
    "    n = (input(\"ingrese un elemento para la lista 1 (si no deseas añadir mas, escribe 'stop'): \"))  #incluimos la pregunta en el ciclo para que se repita hasta terminar el ciclo\n",
    "print(list1)  #imprimimos la lista 1\n",
    "list2 = [] #creamos una lista 2 vacía\n",
    "m = (input(\"ingrese un elemento para la lista 2 : \"))  #preguntamos al usuario que elemento desea añadir\n",
    "while (m != 'stop'):  #ejecutamos siempre que los elementos ingresados sean distintos a la palabra 'stop'\n",
    "    list2.append(m)  #añadimos el elemento a la lista 2\n",
    "    m = (input(\"ingrese un elemento para la lista 2 (si no deseas añadir mas, escribe 'stop'): \"))  #incluimos la pregunta en el ciclo para que se repita hasta terminar el ciclo\n",
    "print(list2)  #imprimimos la lista 2\n",
    "\n",
    "len1 = len(list1)-1 #creamos 'len1' para saber cuantos elementos tenemos en la lista\n",
    "i = 0 #asignamos a 'i' un valor inicial de 0\n",
    "\n",
    "while (i <= len1): #iniciamos un ciclo siempre que 'i' sea mejor o igual a 'len1'\n",
    "    if list1[i] in list2: #si el elemento 'i' de la lista 1 está en la lista 2, no lo imprimimos\n",
    "            i = i + 1 #sumamos 1 a 'i'\n",
    "    else:\n",
    "        print('elsiguiente elemento de la lista 1 no está en la lista 2 : ',list1[i]) #si el elemento 'i' de la lista 1 no está en la lista 2 lo imprimimos\n",
    "        i = i + 1 #sumamos 1 a 'i'"
   ]
  }
 ],
 "metadata": {
  "kernelspec": {
   "display_name": "Python 3",
   "language": "python",
   "name": "python3"
  },
  "language_info": {
   "name": "python",
   "version": "3.11.1"
  },
  "orig_nbformat": 4
 },
 "nbformat": 4,
 "nbformat_minor": 2
}
