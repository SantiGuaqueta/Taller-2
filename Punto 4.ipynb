{
 "cells": [
  {
   "cell_type": "code",
   "execution_count": null,
   "metadata": {},
   "outputs": [],
   "source": [
    "# Ejercicio 4 taller 2\n",
    "import math\n",
    "\n",
    "def aprox_cos(x, n): # Define la función\n",
    "    z = 0\n",
    "    for i in range(0,n): # Recorre todos los números hasta n-1 \n",
    "        a = (-1) ** i # Cambia signo y eleva por los numeros del for\n",
    "        b = (x ** (2 * i)) / math.factorial(2 * i ) # Calcula una aproximación de la función seno para x utilizando los primeros n términos de la serie de Maclaurin\n",
    "        z += a * b # Calcula todos los datos para dar la aproximación guardada en a\n",
    "    return z\n",
    "\n",
    "if __name__ == \"__main__\":\n",
    "    x = float(input(\"Ingrese el numero para calcular el Coseno = \")) # Pide al usuario el número\n",
    "    n = int(input(\"Ingrese un número de series de MacLaurin = \")) # Pide al usuario las series\n",
    "    z = aprox_cos(x, n) # Llama la función\n",
    "    coseno = math.cos(x) # Resultado real\n",
    "    print(\"Resultado Serie MacLaurin: \"+str (z)) # Imprime la aproxcimación\n",
    "    print(\"Resultado Funcion Math: \"+str(coseno)) # Imprime la el valor real\n",
    "    print(\"Diferencia = \"+str(coseno - z)) # Imprimir la diferencia entre los dos valores"
   ]
  }
 ],
 "metadata": {
  "kernelspec": {
   "display_name": "Python 3",
   "language": "python",
   "name": "python3"
  },
  "language_info": {
   "name": "python",
   "version": "3.11.1"
  },
  "orig_nbformat": 4
 },
 "nbformat": 4,
 "nbformat_minor": 2
}
