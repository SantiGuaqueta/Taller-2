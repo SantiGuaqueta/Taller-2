{
 "cells": [
  {
   "cell_type": "code",
   "execution_count": null,
   "metadata": {},
   "outputs": [],
   "source": [
    "# Ejercicio 2\n",
    "def numero_real(n:float)->int: # Declaramos la funcion en la cual va a dar un entero\n",
    "    m=int(n) # Declaramos a m como el entero de n  \n",
    "    return(m) # Returnoamos m\n",
    "\n",
    "if __name__ == \"__main__\":\n",
    "    n=float(input(\"Escriba un numero real: \")) # Le pedimos n que es e numero que separaremos en parte entera y decimal\n",
    "    parte_entera = numero_real(n) # Llamamos a la funcion \n",
    "    z=float(n - parte_entera) # Aqui declaramos z como un flotante porque sera la parte decimal de el numero n para esto ponemos que a n le reste la funcion anterior que retorna solo la parte entera\n",
    "    print ( \"La parte entera del numero ingresado es \"+str(parte_entera)) # Imprimimos la parte entera\n",
    "    print( \" y la parte decimal es\" +str(z)) # Imprimimos la parte decimal"
   ]
  }
 ],
 "metadata": {
  "kernelspec": {
   "display_name": "Python 3",
   "language": "python",
   "name": "python3"
  },
  "language_info": {
   "name": "python",
   "version": "3.11.1"
  },
  "orig_nbformat": 4
 },
 "nbformat": 4,
 "nbformat_minor": 2
}
