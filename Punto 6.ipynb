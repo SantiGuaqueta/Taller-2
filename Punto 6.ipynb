{
 "cells": [
  {
   "cell_type": "code",
   "execution_count": null,
   "metadata": {},
   "outputs": [],
   "source": [
    "# Ejercicio 6\n",
    "def lista_repetida(n):\n",
    "    for x in range(0,n): \n",
    "        num=float(input(\"Escriba el numero: \"))# Le pido un numero\n",
    "        lista.append(num) # El numero que pedimos anterior se agregara a la lista \n",
    "    duplicados = [x for i, x in enumerate(lista) if i != lista.index(x)] # Usamos List comprenhension con index para saber los repetidos de la lista \n",
    "    print( \"Los elementos repetidos son:\"+str(duplicados)) # Imprime los duplicados que existen y si no lo hay imprime una lista vacia\n",
    "\n",
    "if __name__ == \"__main__\":\n",
    "    n=int(input(\"Cantidad de datos en la lista: \")) #Pido cantidad de numeros que va a tener la lista\n",
    "    lista=[] # declaro una lista vacia que se utilizara mas adelante\n",
    "    lista_repetida(n) # Llamamos a la funcion para que imprima "
   ]
  }
 ],
 "metadata": {
  "kernelspec": {
   "display_name": "Python 3",
   "language": "python",
   "name": "python3"
  },
  "language_info": {
   "name": "python",
   "version": "3.11.1"
  },
  "orig_nbformat": 4
 },
 "nbformat": 4,
 "nbformat_minor": 2
}
